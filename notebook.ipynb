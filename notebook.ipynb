{
 "cells": [
  {
   "cell_type": "markdown",
   "id": "040f5266-f8e5-4773-a7ff-ff302b2cab37",
   "metadata": {},
   "source": [
    "# Business Understanding"
   ]
  },
  {
   "cell_type": "markdown",
   "id": "37d6802b-e142-4c19-8526-096ec50fbecf",
   "metadata": {},
   "source": [
    "The goal of this project is to look at aviation accidents that occurred in the past years from 1962 to 2022. The purpose of this analysis is to allow our clients make informed decisions on what aircraft to purchase."
   ]
  },
  {
   "cell_type": "markdown",
   "id": "8d8454b5-db13-476e-b5c8-11ebf7f1c216",
   "metadata": {},
   "source": [
    "# Data Understanding"
   ]
  },
  {
   "cell_type": "markdown",
   "id": "e639dcb9-4ee2-43f6-ab24-feb697323954",
   "metadata": {},
   "source": [
    "In this section we will get an  overview of what data we have. This should allow us in better preparing in tackling the goal of the project."
   ]
  },
  {
   "cell_type": "code",
   "execution_count": 5,
   "id": "bded8c0e-dca1-461e-94b6-424d5aba724d",
   "metadata": {},
   "outputs": [],
   "source": [
    "#Importing the necessary python libraries \n",
    "import pandas as pd\n",
    "import matplotlib.pyplot as plt\n",
    "import seaborn as sns "
   ]
  },
  {
   "cell_type": "code",
   "execution_count": 6,
   "id": "818e2609-8e77-442f-94a3-89b9cc93b30e",
   "metadata": {},
   "outputs": [
    {
     "data": {
      "text/html": [
       "<div>\n",
       "<style scoped>\n",
       "    .dataframe tbody tr th:only-of-type {\n",
       "        vertical-align: middle;\n",
       "    }\n",
       "\n",
       "    .dataframe tbody tr th {\n",
       "        vertical-align: top;\n",
       "    }\n",
       "\n",
       "    .dataframe thead th {\n",
       "        text-align: right;\n",
       "    }\n",
       "</style>\n",
       "<table border=\"1\" class=\"dataframe\">\n",
       "  <thead>\n",
       "    <tr style=\"text-align: right;\">\n",
       "      <th></th>\n",
       "      <th>Event.Id</th>\n",
       "      <th>Investigation.Type</th>\n",
       "      <th>Accident.Number</th>\n",
       "      <th>Event.Date</th>\n",
       "      <th>Location</th>\n",
       "      <th>Country</th>\n",
       "      <th>Latitude</th>\n",
       "      <th>Longitude</th>\n",
       "      <th>Airport.Code</th>\n",
       "      <th>Airport.Name</th>\n",
       "      <th>...</th>\n",
       "      <th>Purpose.of.flight</th>\n",
       "      <th>Air.carrier</th>\n",
       "      <th>Total.Fatal.Injuries</th>\n",
       "      <th>Total.Serious.Injuries</th>\n",
       "      <th>Total.Minor.Injuries</th>\n",
       "      <th>Total.Uninjured</th>\n",
       "      <th>Weather.Condition</th>\n",
       "      <th>Broad.phase.of.flight</th>\n",
       "      <th>Report.Status</th>\n",
       "      <th>Publication.Date</th>\n",
       "    </tr>\n",
       "  </thead>\n",
       "  <tbody>\n",
       "    <tr>\n",
       "      <th>0</th>\n",
       "      <td>20001218X45444</td>\n",
       "      <td>Accident</td>\n",
       "      <td>SEA87LA080</td>\n",
       "      <td>1948-10-24</td>\n",
       "      <td>MOOSE CREEK, ID</td>\n",
       "      <td>United States</td>\n",
       "      <td>NaN</td>\n",
       "      <td>NaN</td>\n",
       "      <td>NaN</td>\n",
       "      <td>NaN</td>\n",
       "      <td>...</td>\n",
       "      <td>Personal</td>\n",
       "      <td>NaN</td>\n",
       "      <td>2.0</td>\n",
       "      <td>0.0</td>\n",
       "      <td>0.0</td>\n",
       "      <td>0.0</td>\n",
       "      <td>UNK</td>\n",
       "      <td>Cruise</td>\n",
       "      <td>Probable Cause</td>\n",
       "      <td>NaN</td>\n",
       "    </tr>\n",
       "    <tr>\n",
       "      <th>1</th>\n",
       "      <td>20001218X45447</td>\n",
       "      <td>Accident</td>\n",
       "      <td>LAX94LA336</td>\n",
       "      <td>1962-07-19</td>\n",
       "      <td>BRIDGEPORT, CA</td>\n",
       "      <td>United States</td>\n",
       "      <td>NaN</td>\n",
       "      <td>NaN</td>\n",
       "      <td>NaN</td>\n",
       "      <td>NaN</td>\n",
       "      <td>...</td>\n",
       "      <td>Personal</td>\n",
       "      <td>NaN</td>\n",
       "      <td>4.0</td>\n",
       "      <td>0.0</td>\n",
       "      <td>0.0</td>\n",
       "      <td>0.0</td>\n",
       "      <td>UNK</td>\n",
       "      <td>Unknown</td>\n",
       "      <td>Probable Cause</td>\n",
       "      <td>19-09-1996</td>\n",
       "    </tr>\n",
       "    <tr>\n",
       "      <th>2</th>\n",
       "      <td>20061025X01555</td>\n",
       "      <td>Accident</td>\n",
       "      <td>NYC07LA005</td>\n",
       "      <td>1974-08-30</td>\n",
       "      <td>Saltville, VA</td>\n",
       "      <td>United States</td>\n",
       "      <td>36.922223</td>\n",
       "      <td>-81.878056</td>\n",
       "      <td>NaN</td>\n",
       "      <td>NaN</td>\n",
       "      <td>...</td>\n",
       "      <td>Personal</td>\n",
       "      <td>NaN</td>\n",
       "      <td>3.0</td>\n",
       "      <td>NaN</td>\n",
       "      <td>NaN</td>\n",
       "      <td>NaN</td>\n",
       "      <td>IMC</td>\n",
       "      <td>Cruise</td>\n",
       "      <td>Probable Cause</td>\n",
       "      <td>26-02-2007</td>\n",
       "    </tr>\n",
       "    <tr>\n",
       "      <th>3</th>\n",
       "      <td>20001218X45448</td>\n",
       "      <td>Accident</td>\n",
       "      <td>LAX96LA321</td>\n",
       "      <td>1977-06-19</td>\n",
       "      <td>EUREKA, CA</td>\n",
       "      <td>United States</td>\n",
       "      <td>NaN</td>\n",
       "      <td>NaN</td>\n",
       "      <td>NaN</td>\n",
       "      <td>NaN</td>\n",
       "      <td>...</td>\n",
       "      <td>Personal</td>\n",
       "      <td>NaN</td>\n",
       "      <td>2.0</td>\n",
       "      <td>0.0</td>\n",
       "      <td>0.0</td>\n",
       "      <td>0.0</td>\n",
       "      <td>IMC</td>\n",
       "      <td>Cruise</td>\n",
       "      <td>Probable Cause</td>\n",
       "      <td>12-09-2000</td>\n",
       "    </tr>\n",
       "    <tr>\n",
       "      <th>4</th>\n",
       "      <td>20041105X01764</td>\n",
       "      <td>Accident</td>\n",
       "      <td>CHI79FA064</td>\n",
       "      <td>1979-08-02</td>\n",
       "      <td>Canton, OH</td>\n",
       "      <td>United States</td>\n",
       "      <td>NaN</td>\n",
       "      <td>NaN</td>\n",
       "      <td>NaN</td>\n",
       "      <td>NaN</td>\n",
       "      <td>...</td>\n",
       "      <td>Personal</td>\n",
       "      <td>NaN</td>\n",
       "      <td>1.0</td>\n",
       "      <td>2.0</td>\n",
       "      <td>NaN</td>\n",
       "      <td>0.0</td>\n",
       "      <td>VMC</td>\n",
       "      <td>Approach</td>\n",
       "      <td>Probable Cause</td>\n",
       "      <td>16-04-1980</td>\n",
       "    </tr>\n",
       "  </tbody>\n",
       "</table>\n",
       "<p>5 rows × 31 columns</p>\n",
       "</div>"
      ],
      "text/plain": [
       "         Event.Id Investigation.Type Accident.Number  Event.Date  \\\n",
       "0  20001218X45444           Accident      SEA87LA080  1948-10-24   \n",
       "1  20001218X45447           Accident      LAX94LA336  1962-07-19   \n",
       "2  20061025X01555           Accident      NYC07LA005  1974-08-30   \n",
       "3  20001218X45448           Accident      LAX96LA321  1977-06-19   \n",
       "4  20041105X01764           Accident      CHI79FA064  1979-08-02   \n",
       "\n",
       "          Location        Country   Latitude   Longitude Airport.Code  \\\n",
       "0  MOOSE CREEK, ID  United States        NaN         NaN          NaN   \n",
       "1   BRIDGEPORT, CA  United States        NaN         NaN          NaN   \n",
       "2    Saltville, VA  United States  36.922223  -81.878056          NaN   \n",
       "3       EUREKA, CA  United States        NaN         NaN          NaN   \n",
       "4       Canton, OH  United States        NaN         NaN          NaN   \n",
       "\n",
       "  Airport.Name  ... Purpose.of.flight Air.carrier Total.Fatal.Injuries  \\\n",
       "0          NaN  ...          Personal         NaN                  2.0   \n",
       "1          NaN  ...          Personal         NaN                  4.0   \n",
       "2          NaN  ...          Personal         NaN                  3.0   \n",
       "3          NaN  ...          Personal         NaN                  2.0   \n",
       "4          NaN  ...          Personal         NaN                  1.0   \n",
       "\n",
       "  Total.Serious.Injuries Total.Minor.Injuries Total.Uninjured  \\\n",
       "0                    0.0                  0.0             0.0   \n",
       "1                    0.0                  0.0             0.0   \n",
       "2                    NaN                  NaN             NaN   \n",
       "3                    0.0                  0.0             0.0   \n",
       "4                    2.0                  NaN             0.0   \n",
       "\n",
       "  Weather.Condition  Broad.phase.of.flight   Report.Status Publication.Date  \n",
       "0               UNK                 Cruise  Probable Cause              NaN  \n",
       "1               UNK                Unknown  Probable Cause       19-09-1996  \n",
       "2               IMC                 Cruise  Probable Cause       26-02-2007  \n",
       "3               IMC                 Cruise  Probable Cause       12-09-2000  \n",
       "4               VMC               Approach  Probable Cause       16-04-1980  \n",
       "\n",
       "[5 rows x 31 columns]"
      ]
     },
     "execution_count": 6,
     "metadata": {},
     "output_type": "execute_result"
    }
   ],
   "source": [
    "#Importing and displaying the first data set \n",
    "aviation_df=pd.read_csv(\"AviationData.csv\",encoding='cp1252',low_memory=False)\n",
    "aviation_df.head()"
   ]
  },
  {
   "cell_type": "code",
   "execution_count": 7,
   "id": "e3a59fcb-8639-45a5-a115-cd11064a0afb",
   "metadata": {},
   "outputs": [
    {
     "name": "stdout",
     "output_type": "stream",
     "text": [
      "<class 'pandas.core.frame.DataFrame'>\n",
      "RangeIndex: 88889 entries, 0 to 88888\n",
      "Data columns (total 31 columns):\n",
      " #   Column                  Non-Null Count  Dtype  \n",
      "---  ------                  --------------  -----  \n",
      " 0   Event.Id                88889 non-null  object \n",
      " 1   Investigation.Type      88889 non-null  object \n",
      " 2   Accident.Number         88889 non-null  object \n",
      " 3   Event.Date              88889 non-null  object \n",
      " 4   Location                88837 non-null  object \n",
      " 5   Country                 88663 non-null  object \n",
      " 6   Latitude                34382 non-null  object \n",
      " 7   Longitude               34373 non-null  object \n",
      " 8   Airport.Code            50132 non-null  object \n",
      " 9   Airport.Name            52704 non-null  object \n",
      " 10  Injury.Severity         87889 non-null  object \n",
      " 11  Aircraft.damage         85695 non-null  object \n",
      " 12  Aircraft.Category       32287 non-null  object \n",
      " 13  Registration.Number     87507 non-null  object \n",
      " 14  Make                    88826 non-null  object \n",
      " 15  Model                   88797 non-null  object \n",
      " 16  Amateur.Built           88787 non-null  object \n",
      " 17  Number.of.Engines       82805 non-null  float64\n",
      " 18  Engine.Type             81793 non-null  object \n",
      " 19  FAR.Description         32023 non-null  object \n",
      " 20  Schedule                12582 non-null  object \n",
      " 21  Purpose.of.flight       82697 non-null  object \n",
      " 22  Air.carrier             16648 non-null  object \n",
      " 23  Total.Fatal.Injuries    77488 non-null  float64\n",
      " 24  Total.Serious.Injuries  76379 non-null  float64\n",
      " 25  Total.Minor.Injuries    76956 non-null  float64\n",
      " 26  Total.Uninjured         82977 non-null  float64\n",
      " 27  Weather.Condition       84397 non-null  object \n",
      " 28  Broad.phase.of.flight   61724 non-null  object \n",
      " 29  Report.Status           82505 non-null  object \n",
      " 30  Publication.Date        75118 non-null  object \n",
      "dtypes: float64(5), object(26)\n",
      "memory usage: 21.0+ MB\n"
     ]
    }
   ],
   "source": [
    "aviation_df.info() # get a summary of the dataset"
   ]
  },
  {
   "cell_type": "code",
   "execution_count": 8,
   "id": "620e9f84-0298-4313-a6ab-07b85a34a9f4",
   "metadata": {},
   "outputs": [
    {
     "data": {
      "text/html": [
       "<div>\n",
       "<style scoped>\n",
       "    .dataframe tbody tr th:only-of-type {\n",
       "        vertical-align: middle;\n",
       "    }\n",
       "\n",
       "    .dataframe tbody tr th {\n",
       "        vertical-align: top;\n",
       "    }\n",
       "\n",
       "    .dataframe thead th {\n",
       "        text-align: right;\n",
       "    }\n",
       "</style>\n",
       "<table border=\"1\" class=\"dataframe\">\n",
       "  <thead>\n",
       "    <tr style=\"text-align: right;\">\n",
       "      <th></th>\n",
       "      <th>Number.of.Engines</th>\n",
       "      <th>Total.Fatal.Injuries</th>\n",
       "      <th>Total.Serious.Injuries</th>\n",
       "      <th>Total.Minor.Injuries</th>\n",
       "      <th>Total.Uninjured</th>\n",
       "    </tr>\n",
       "  </thead>\n",
       "  <tbody>\n",
       "    <tr>\n",
       "      <th>count</th>\n",
       "      <td>82805.000000</td>\n",
       "      <td>77488.000000</td>\n",
       "      <td>76379.000000</td>\n",
       "      <td>76956.000000</td>\n",
       "      <td>82977.000000</td>\n",
       "    </tr>\n",
       "    <tr>\n",
       "      <th>mean</th>\n",
       "      <td>1.146585</td>\n",
       "      <td>0.647855</td>\n",
       "      <td>0.279881</td>\n",
       "      <td>0.357061</td>\n",
       "      <td>5.325440</td>\n",
       "    </tr>\n",
       "    <tr>\n",
       "      <th>std</th>\n",
       "      <td>0.446510</td>\n",
       "      <td>5.485960</td>\n",
       "      <td>1.544084</td>\n",
       "      <td>2.235625</td>\n",
       "      <td>27.913634</td>\n",
       "    </tr>\n",
       "    <tr>\n",
       "      <th>min</th>\n",
       "      <td>0.000000</td>\n",
       "      <td>0.000000</td>\n",
       "      <td>0.000000</td>\n",
       "      <td>0.000000</td>\n",
       "      <td>0.000000</td>\n",
       "    </tr>\n",
       "    <tr>\n",
       "      <th>25%</th>\n",
       "      <td>1.000000</td>\n",
       "      <td>0.000000</td>\n",
       "      <td>0.000000</td>\n",
       "      <td>0.000000</td>\n",
       "      <td>0.000000</td>\n",
       "    </tr>\n",
       "    <tr>\n",
       "      <th>50%</th>\n",
       "      <td>1.000000</td>\n",
       "      <td>0.000000</td>\n",
       "      <td>0.000000</td>\n",
       "      <td>0.000000</td>\n",
       "      <td>1.000000</td>\n",
       "    </tr>\n",
       "    <tr>\n",
       "      <th>75%</th>\n",
       "      <td>1.000000</td>\n",
       "      <td>0.000000</td>\n",
       "      <td>0.000000</td>\n",
       "      <td>0.000000</td>\n",
       "      <td>2.000000</td>\n",
       "    </tr>\n",
       "    <tr>\n",
       "      <th>max</th>\n",
       "      <td>8.000000</td>\n",
       "      <td>349.000000</td>\n",
       "      <td>161.000000</td>\n",
       "      <td>380.000000</td>\n",
       "      <td>699.000000</td>\n",
       "    </tr>\n",
       "  </tbody>\n",
       "</table>\n",
       "</div>"
      ],
      "text/plain": [
       "       Number.of.Engines  Total.Fatal.Injuries  Total.Serious.Injuries  \\\n",
       "count       82805.000000          77488.000000            76379.000000   \n",
       "mean            1.146585              0.647855                0.279881   \n",
       "std             0.446510              5.485960                1.544084   \n",
       "min             0.000000              0.000000                0.000000   \n",
       "25%             1.000000              0.000000                0.000000   \n",
       "50%             1.000000              0.000000                0.000000   \n",
       "75%             1.000000              0.000000                0.000000   \n",
       "max             8.000000            349.000000              161.000000   \n",
       "\n",
       "       Total.Minor.Injuries  Total.Uninjured  \n",
       "count          76956.000000     82977.000000  \n",
       "mean               0.357061         5.325440  \n",
       "std                2.235625        27.913634  \n",
       "min                0.000000         0.000000  \n",
       "25%                0.000000         0.000000  \n",
       "50%                0.000000         1.000000  \n",
       "75%                0.000000         2.000000  \n",
       "max              380.000000       699.000000  "
      ]
     },
     "execution_count": 8,
     "metadata": {},
     "output_type": "execute_result"
    }
   ],
   "source": [
    "aviation_df.describe() "
   ]
  },
  {
   "cell_type": "code",
   "execution_count": 9,
   "id": "f5563ec0-8126-4d9e-a81f-6c4561f56b30",
   "metadata": {},
   "outputs": [
    {
     "data": {
      "text/plain": [
       "Index(['Event.Id', 'Investigation.Type', 'Accident.Number', 'Event.Date',\n",
       "       'Location', 'Country', 'Latitude', 'Longitude', 'Airport.Code',\n",
       "       'Airport.Name', 'Injury.Severity', 'Aircraft.damage',\n",
       "       'Aircraft.Category', 'Registration.Number', 'Make', 'Model',\n",
       "       'Amateur.Built', 'Number.of.Engines', 'Engine.Type', 'FAR.Description',\n",
       "       'Schedule', 'Purpose.of.flight', 'Air.carrier', 'Total.Fatal.Injuries',\n",
       "       'Total.Serious.Injuries', 'Total.Minor.Injuries', 'Total.Uninjured',\n",
       "       'Weather.Condition', 'Broad.phase.of.flight', 'Report.Status',\n",
       "       'Publication.Date'],\n",
       "      dtype='object')"
      ]
     },
     "execution_count": 9,
     "metadata": {},
     "output_type": "execute_result"
    }
   ],
   "source": [
    "# display the columns in this dataset\n",
    "aviation_df.columns"
   ]
  },
  {
   "cell_type": "markdown",
   "id": "91caf62e-37bb-4ef5-be18-63c03ca4a08f",
   "metadata": {},
   "source": [
    "## Data Preparation"
   ]
  },
  {
   "cell_type": "markdown",
   "id": "1acbefe4-278b-479f-848c-f628bb163334",
   "metadata": {},
   "source": [
    "In this section we clean the data."
   ]
  },
  {
   "cell_type": "code",
   "execution_count": 12,
   "id": "d30e831b-844c-4242-852e-484ce657036c",
   "metadata": {},
   "outputs": [
    {
     "data": {
      "text/plain": [
       "Event.Id                      0\n",
       "Investigation.Type            0\n",
       "Accident.Number               0\n",
       "Event.Date                    0\n",
       "Location                     52\n",
       "Country                     226\n",
       "Latitude                  54507\n",
       "Longitude                 54516\n",
       "Airport.Code              38757\n",
       "Airport.Name              36185\n",
       "Injury.Severity            1000\n",
       "Aircraft.damage            3194\n",
       "Aircraft.Category         56602\n",
       "Registration.Number        1382\n",
       "Make                         63\n",
       "Model                        92\n",
       "Amateur.Built               102\n",
       "Number.of.Engines          6084\n",
       "Engine.Type                7096\n",
       "FAR.Description           56866\n",
       "Schedule                  76307\n",
       "Purpose.of.flight          6192\n",
       "Air.carrier               72241\n",
       "Total.Fatal.Injuries      11401\n",
       "Total.Serious.Injuries    12510\n",
       "Total.Minor.Injuries      11933\n",
       "Total.Uninjured            5912\n",
       "Weather.Condition          4492\n",
       "Broad.phase.of.flight     27165\n",
       "Report.Status              6384\n",
       "Publication.Date          13771\n",
       "dtype: int64"
      ]
     },
     "execution_count": 12,
     "metadata": {},
     "output_type": "execute_result"
    }
   ],
   "source": [
    "# check for missing data\n",
    "aviation_df.isnull().sum()"
   ]
  },
  {
   "cell_type": "code",
   "execution_count": 13,
   "id": "0fc6a7ea-26ab-4245-83c2-78bf72dc085e",
   "metadata": {},
   "outputs": [],
   "source": [
    "#dropping columns with more than 30% of missing data \n",
    "threshold = 0.3\n",
    "min_count = int((1 - threshold) * len(aviation_df))\n",
    "aviation_df = aviation_df.dropna(axis=1, thresh=min_count)"
   ]
  },
  {
   "cell_type": "code",
   "execution_count": 14,
   "id": "ad17299d-063f-4890-83b4-ce41a39d1e0e",
   "metadata": {},
   "outputs": [
    {
     "data": {
      "text/plain": [
       "(88889, 22)"
      ]
     },
     "execution_count": 14,
     "metadata": {},
     "output_type": "execute_result"
    }
   ],
   "source": [
    "aviation_df.shape"
   ]
  },
  {
   "cell_type": "code",
   "execution_count": 15,
   "id": "fabff40b-be0e-4872-aece-1bfdb9dd55c8",
   "metadata": {},
   "outputs": [
    {
     "data": {
      "text/plain": [
       "0        False\n",
       "1        False\n",
       "2        False\n",
       "3        False\n",
       "4        False\n",
       "         ...  \n",
       "88884    False\n",
       "88885    False\n",
       "88886    False\n",
       "88887    False\n",
       "88888    False\n",
       "Length: 88889, dtype: bool"
      ]
     },
     "execution_count": 15,
     "metadata": {},
     "output_type": "execute_result"
    }
   ],
   "source": [
    "#check for duplicates \n",
    "aviation_df_duplicates=aviation_df.duplicated()\n",
    "aviation_df_duplicates"
   ]
  },
  {
   "cell_type": "code",
   "execution_count": 16,
   "id": "62c59c38-79b2-484d-8a3f-c275ff724666",
   "metadata": {},
   "outputs": [
    {
     "data": {
      "text/plain": [
       "Index(['Event_Id', 'Investigation_Type', 'Accident_Number', 'Event_Date',\n",
       "       'Location', 'Country', 'Injury_Severity', 'Aircraft_damage',\n",
       "       'Registration_Number', 'Make', 'Model', 'Amateur_Built',\n",
       "       'Number_of_Engines', 'Engine_Type', 'Purpose_of_flight',\n",
       "       'Total_Fatal_Injuries', 'Total_Serious_Injuries',\n",
       "       'Total_Minor_Injuries', 'Total_Uninjured', 'Weather_Condition',\n",
       "       'Report_Status', 'Publication_Date'],\n",
       "      dtype='object')"
      ]
     },
     "execution_count": 16,
     "metadata": {},
     "output_type": "execute_result"
    }
   ],
   "source": [
    "#To better understand the columns, replace full stop with hivens on column names in df1\n",
    "aviation_df.columns = aviation_df.columns.str.replace('.', '_')\n",
    "aviation_df.columns"
   ]
  },
  {
   "cell_type": "code",
   "execution_count": 17,
   "id": "74bc4b2d-1dea-43fd-9aa3-7a82d0a310bf",
   "metadata": {},
   "outputs": [],
   "source": [
    "#convert Event_Date column to datetime format\n",
    "aviation_df['Event_Date'] = pd.to_datetime(aviation_df['Event_Date'])"
   ]
  },
  {
   "cell_type": "code",
   "execution_count": 18,
   "id": "fa9bf009-2d15-4b7e-ba2e-6ae023da9283",
   "metadata": {},
   "outputs": [
    {
     "data": {
      "text/plain": [
       "(51131, 22)"
      ]
     },
     "execution_count": 18,
     "metadata": {},
     "output_type": "execute_result"
    }
   ],
   "source": [
    "#dropping rows with missing entries \n",
    "aviation_df = aviation_df.dropna()\n",
    "aviation_df.shape"
   ]
  },
  {
   "cell_type": "code",
   "execution_count": 19,
   "id": "2711fcf8-40a4-42e2-a8ff-49f81f2eeeb2",
   "metadata": {},
   "outputs": [
    {
     "data": {
      "text/plain": [
       "Event_Id                  0\n",
       "Investigation_Type        0\n",
       "Accident_Number           0\n",
       "Event_Date                0\n",
       "Location                  0\n",
       "Country                   0\n",
       "Injury_Severity           0\n",
       "Aircraft_damage           0\n",
       "Registration_Number       0\n",
       "Make                      0\n",
       "Model                     0\n",
       "Amateur_Built             0\n",
       "Number_of_Engines         0\n",
       "Engine_Type               0\n",
       "Purpose_of_flight         0\n",
       "Total_Fatal_Injuries      0\n",
       "Total_Serious_Injuries    0\n",
       "Total_Minor_Injuries      0\n",
       "Total_Uninjured           0\n",
       "Weather_Condition         0\n",
       "Report_Status             0\n",
       "Publication_Date          0\n",
       "dtype: int64"
      ]
     },
     "execution_count": 19,
     "metadata": {},
     "output_type": "execute_result"
    }
   ],
   "source": [
    "# checking if all misssing rows have been dropped\n",
    "aviation_df.isnull().sum()"
   ]
  },
  {
   "cell_type": "code",
   "execution_count": 20,
   "id": "0ca35173-366c-4356-ad8f-0e790e00dd13",
   "metadata": {},
   "outputs": [
    {
     "data": {
      "text/html": [
       "<div>\n",
       "<style scoped>\n",
       "    .dataframe tbody tr th:only-of-type {\n",
       "        vertical-align: middle;\n",
       "    }\n",
       "\n",
       "    .dataframe tbody tr th {\n",
       "        vertical-align: top;\n",
       "    }\n",
       "\n",
       "    .dataframe thead th {\n",
       "        text-align: right;\n",
       "    }\n",
       "</style>\n",
       "<table border=\"1\" class=\"dataframe\">\n",
       "  <thead>\n",
       "    <tr style=\"text-align: right;\">\n",
       "      <th></th>\n",
       "      <th>Event_Id</th>\n",
       "      <th>Investigation_Type</th>\n",
       "      <th>Accident_Number</th>\n",
       "      <th>Event_Date</th>\n",
       "      <th>Location</th>\n",
       "      <th>Country</th>\n",
       "      <th>Injury_Severity</th>\n",
       "      <th>Aircraft_damage</th>\n",
       "      <th>Registration_Number</th>\n",
       "      <th>Make</th>\n",
       "      <th>...</th>\n",
       "      <th>Number_of_Engines</th>\n",
       "      <th>Engine_Type</th>\n",
       "      <th>Purpose_of_flight</th>\n",
       "      <th>Total_Fatal_Injuries</th>\n",
       "      <th>Total_Serious_Injuries</th>\n",
       "      <th>Total_Minor_Injuries</th>\n",
       "      <th>Total_Uninjured</th>\n",
       "      <th>Weather_Condition</th>\n",
       "      <th>Report_Status</th>\n",
       "      <th>Publication_Date</th>\n",
       "    </tr>\n",
       "  </thead>\n",
       "  <tbody>\n",
       "    <tr>\n",
       "      <th>1</th>\n",
       "      <td>20001218X45447</td>\n",
       "      <td>Accident</td>\n",
       "      <td>LAX94LA336</td>\n",
       "      <td>1962-07-19</td>\n",
       "      <td>BRIDGEPORT, CA</td>\n",
       "      <td>United States</td>\n",
       "      <td>Fatal(4)</td>\n",
       "      <td>Destroyed</td>\n",
       "      <td>N5069P</td>\n",
       "      <td>Piper</td>\n",
       "      <td>...</td>\n",
       "      <td>1.0</td>\n",
       "      <td>Reciprocating</td>\n",
       "      <td>Personal</td>\n",
       "      <td>4.0</td>\n",
       "      <td>0.0</td>\n",
       "      <td>0.0</td>\n",
       "      <td>0.0</td>\n",
       "      <td>UNK</td>\n",
       "      <td>Probable Cause</td>\n",
       "      <td>19-09-1996</td>\n",
       "    </tr>\n",
       "    <tr>\n",
       "      <th>3</th>\n",
       "      <td>20001218X45448</td>\n",
       "      <td>Accident</td>\n",
       "      <td>LAX96LA321</td>\n",
       "      <td>1977-06-19</td>\n",
       "      <td>EUREKA, CA</td>\n",
       "      <td>United States</td>\n",
       "      <td>Fatal(2)</td>\n",
       "      <td>Destroyed</td>\n",
       "      <td>N1168J</td>\n",
       "      <td>Rockwell</td>\n",
       "      <td>...</td>\n",
       "      <td>1.0</td>\n",
       "      <td>Reciprocating</td>\n",
       "      <td>Personal</td>\n",
       "      <td>2.0</td>\n",
       "      <td>0.0</td>\n",
       "      <td>0.0</td>\n",
       "      <td>0.0</td>\n",
       "      <td>IMC</td>\n",
       "      <td>Probable Cause</td>\n",
       "      <td>12-09-2000</td>\n",
       "    </tr>\n",
       "    <tr>\n",
       "      <th>6</th>\n",
       "      <td>20001218X45446</td>\n",
       "      <td>Accident</td>\n",
       "      <td>CHI81LA106</td>\n",
       "      <td>1981-08-01</td>\n",
       "      <td>COTTON, MN</td>\n",
       "      <td>United States</td>\n",
       "      <td>Fatal(4)</td>\n",
       "      <td>Destroyed</td>\n",
       "      <td>N4988E</td>\n",
       "      <td>Cessna</td>\n",
       "      <td>...</td>\n",
       "      <td>1.0</td>\n",
       "      <td>Reciprocating</td>\n",
       "      <td>Personal</td>\n",
       "      <td>4.0</td>\n",
       "      <td>0.0</td>\n",
       "      <td>0.0</td>\n",
       "      <td>0.0</td>\n",
       "      <td>IMC</td>\n",
       "      <td>Probable Cause</td>\n",
       "      <td>06-11-2001</td>\n",
       "    </tr>\n",
       "    <tr>\n",
       "      <th>7</th>\n",
       "      <td>20020909X01562</td>\n",
       "      <td>Accident</td>\n",
       "      <td>SEA82DA022</td>\n",
       "      <td>1982-01-01</td>\n",
       "      <td>PULLMAN, WA</td>\n",
       "      <td>United States</td>\n",
       "      <td>Non-Fatal</td>\n",
       "      <td>Substantial</td>\n",
       "      <td>N2482N</td>\n",
       "      <td>Cessna</td>\n",
       "      <td>...</td>\n",
       "      <td>1.0</td>\n",
       "      <td>Reciprocating</td>\n",
       "      <td>Personal</td>\n",
       "      <td>0.0</td>\n",
       "      <td>0.0</td>\n",
       "      <td>0.0</td>\n",
       "      <td>2.0</td>\n",
       "      <td>VMC</td>\n",
       "      <td>Probable Cause</td>\n",
       "      <td>01-01-1982</td>\n",
       "    </tr>\n",
       "    <tr>\n",
       "      <th>8</th>\n",
       "      <td>20020909X01561</td>\n",
       "      <td>Accident</td>\n",
       "      <td>NYC82DA015</td>\n",
       "      <td>1982-01-01</td>\n",
       "      <td>EAST HANOVER, NJ</td>\n",
       "      <td>United States</td>\n",
       "      <td>Non-Fatal</td>\n",
       "      <td>Substantial</td>\n",
       "      <td>N7967Q</td>\n",
       "      <td>Cessna</td>\n",
       "      <td>...</td>\n",
       "      <td>2.0</td>\n",
       "      <td>Reciprocating</td>\n",
       "      <td>Business</td>\n",
       "      <td>0.0</td>\n",
       "      <td>0.0</td>\n",
       "      <td>0.0</td>\n",
       "      <td>2.0</td>\n",
       "      <td>IMC</td>\n",
       "      <td>Probable Cause</td>\n",
       "      <td>01-01-1982</td>\n",
       "    </tr>\n",
       "  </tbody>\n",
       "</table>\n",
       "<p>5 rows × 22 columns</p>\n",
       "</div>"
      ],
      "text/plain": [
       "         Event_Id Investigation_Type Accident_Number Event_Date  \\\n",
       "1  20001218X45447           Accident      LAX94LA336 1962-07-19   \n",
       "3  20001218X45448           Accident      LAX96LA321 1977-06-19   \n",
       "6  20001218X45446           Accident      CHI81LA106 1981-08-01   \n",
       "7  20020909X01562           Accident      SEA82DA022 1982-01-01   \n",
       "8  20020909X01561           Accident      NYC82DA015 1982-01-01   \n",
       "\n",
       "           Location        Country Injury_Severity Aircraft_damage  \\\n",
       "1    BRIDGEPORT, CA  United States        Fatal(4)       Destroyed   \n",
       "3        EUREKA, CA  United States        Fatal(2)       Destroyed   \n",
       "6        COTTON, MN  United States        Fatal(4)       Destroyed   \n",
       "7       PULLMAN, WA  United States       Non-Fatal     Substantial   \n",
       "8  EAST HANOVER, NJ  United States       Non-Fatal     Substantial   \n",
       "\n",
       "  Registration_Number      Make  ... Number_of_Engines    Engine_Type  \\\n",
       "1              N5069P     Piper  ...               1.0  Reciprocating   \n",
       "3              N1168J  Rockwell  ...               1.0  Reciprocating   \n",
       "6              N4988E    Cessna  ...               1.0  Reciprocating   \n",
       "7              N2482N    Cessna  ...               1.0  Reciprocating   \n",
       "8              N7967Q    Cessna  ...               2.0  Reciprocating   \n",
       "\n",
       "   Purpose_of_flight Total_Fatal_Injuries Total_Serious_Injuries  \\\n",
       "1           Personal                  4.0                    0.0   \n",
       "3           Personal                  2.0                    0.0   \n",
       "6           Personal                  4.0                    0.0   \n",
       "7           Personal                  0.0                    0.0   \n",
       "8           Business                  0.0                    0.0   \n",
       "\n",
       "   Total_Minor_Injuries  Total_Uninjured  Weather_Condition   Report_Status  \\\n",
       "1                   0.0              0.0                UNK  Probable Cause   \n",
       "3                   0.0              0.0                IMC  Probable Cause   \n",
       "6                   0.0              0.0                IMC  Probable Cause   \n",
       "7                   0.0              2.0                VMC  Probable Cause   \n",
       "8                   0.0              2.0                IMC  Probable Cause   \n",
       "\n",
       "  Publication_Date  \n",
       "1       19-09-1996  \n",
       "3       12-09-2000  \n",
       "6       06-11-2001  \n",
       "7       01-01-1982  \n",
       "8       01-01-1982  \n",
       "\n",
       "[5 rows x 22 columns]"
      ]
     },
     "execution_count": 20,
     "metadata": {},
     "output_type": "execute_result"
    }
   ],
   "source": [
    "aviation_df.head()"
   ]
  },
  {
   "cell_type": "code",
   "execution_count": 21,
   "id": "eb60361f-21bf-4065-bebc-631bd86ee91d",
   "metadata": {},
   "outputs": [
    {
     "name": "stdout",
     "output_type": "stream",
     "text": [
      "Country\n",
      "ATLANTIC OCEAN     0.093877\n",
      "Afghanistan        0.001956\n",
      "American Samoa     0.003912\n",
      "Angola             0.003912\n",
      "Antarctica         0.001956\n",
      "                    ...    \n",
      "UN                 0.009779\n",
      "United Kingdom     0.001956\n",
      "United States     99.047545\n",
      "Venezuela          0.003912\n",
      "West Indies        0.007823\n",
      "Length: 79, dtype: float64\n"
     ]
    }
   ],
   "source": [
    "Countrycount = aviation_df.groupby('Country').size()\n",
    "percentage = (Countrycount / Countrycount.sum()) * 100\n",
    "print(percentage)"
   ]
  },
  {
   "cell_type": "code",
   "execution_count": 22,
   "id": "5c742f10-7e62-48cb-ad77-f821e78388e7",
   "metadata": {},
   "outputs": [],
   "source": [
    "#For data uniformity, ensure all data under 'Make' and 'Model' start with a capital letter\n",
    "aviation_df['Make'] = aviation_df['Make'].str.title()\n",
    "aviation_df['Model'] = aviation_df['Model'].str.title()"
   ]
  },
  {
   "cell_type": "code",
   "execution_count": 23,
   "id": "2c93fc3d-b8ea-43b4-b29a-42f2dd0c3c3b",
   "metadata": {},
   "outputs": [],
   "source": [
    "# Create a column called Year from \n",
    "aviation_df['Event_Date'] = pd.to_datetime(aviation_df['Event_Date'], format='%Y-%m-%d')\n",
    "aviation_df['Year']=aviation_df['Event_Date'].dt.strftime('%Y')"
   ]
  },
  {
   "cell_type": "code",
   "execution_count": 24,
   "id": "932bde55-6941-4834-bd44-44f2b3afbbe2",
   "metadata": {},
   "outputs": [
    {
     "data": {
      "text/plain": [
       "1        1962\n",
       "3        1977\n",
       "6        1981\n",
       "7        1982\n",
       "8        1982\n",
       "         ... \n",
       "88639    2022\n",
       "88647    2022\n",
       "88661    2022\n",
       "88735    2022\n",
       "88767    2022\n",
       "Name: Year, Length: 51131, dtype: object"
      ]
     },
     "execution_count": 24,
     "metadata": {},
     "output_type": "execute_result"
    }
   ],
   "source": [
    "aviation_df['Year']"
   ]
  },
  {
   "cell_type": "code",
   "execution_count": 25,
   "id": "0361a441-0bb4-448c-9f9c-54e95e9c5274",
   "metadata": {},
   "outputs": [],
   "source": [
    "# Specify the file path to export df\n",
    "file_path = 'C:/Users/ChrisKarta/Documents/MORINGA/Phase1/Assessments/project-phase-1/aviationdatacleaned.csv'\n",
    "# Export as CSV\n",
    "aviation_df.to_csv(file_path, index=False)"
   ]
  },
  {
   "cell_type": "markdown",
   "id": "37db71c7-4c1b-4651-9c05-2dc1bdb03847",
   "metadata": {},
   "source": [
    "# Data Analysis"
   ]
  },
  {
   "cell_type": "markdown",
   "id": "1a8265dd-1e87-41ad-aaf0-fb4ffb8b64e3",
   "metadata": {},
   "source": [
    "In here we analyse the cleaned data."
   ]
  },
  {
   "cell_type": "code",
   "execution_count": 28,
   "id": "320ed2ca-00be-46b3-941a-0381a7d1fd25",
   "metadata": {},
   "outputs": [
    {
     "name": "stdout",
     "output_type": "stream",
     "text": [
      "Make\n",
      "Cessna      32.743346\n",
      "Piper       18.063406\n",
      "Beech        6.221275\n",
      "Bell         2.740021\n",
      "Mooney       1.591989\n",
      "Grumman      1.451174\n",
      "Bellanca     1.304492\n",
      "Boeing       1.075668\n",
      "Hughes       1.069801\n",
      "Robinson     1.026774\n",
      "Name: proportion, dtype: float64\n"
     ]
    }
   ],
   "source": [
    "#Top 10 makes of aircraft in this dataset.\n",
    "top_10_makes = aviation_df['Make'].value_counts(normalize=True).head(10) * 100\n",
    "print(top_10_makes)"
   ]
  },
  {
   "cell_type": "code",
   "execution_count": 29,
   "id": "5ee6614a-2980-4123-a721-f697d5114aae",
   "metadata": {},
   "outputs": [
    {
     "data": {
      "image/png": "[encoded data removed]",
      "text/plain": [
       "<Figure size 1000x600 with 1 Axes>"
      ]
     },
     "metadata": {},
     "output_type": "display_data"
    }
   ],
   "source": [
    "# Let's generate a bar graph for the above data\n",
    "\n",
    "## getting a count of every aircraft make and sorting them from top 10\n",
    "top_ten_aircrafts_makes_accidents = aviation_df['Make'].value_counts().head(10)\n",
    "# getting colours\n",
    "colors = ['orange','pink','yellow' 'green', 'blue', 'purple','indigo','violet','black','brown']\n",
    "# Plotting the a bar graph of to 10 aircrafts\n",
    "plt.figure(figsize=(10, 6))\n",
    "bar=top_ten_aircrafts_makes_accidents.plot(kind='bar', color=colors)\n",
    "#capture number of accidents on top of the bar\n",
    "for p in bar.patches:\n",
    "            bar.annotate(f'{int(p.get_height())}', (p.get_x() + p.get_width() / 2., p.get_height()),\n",
    "                        ha='center', va='center', fontsize=10, color='black', xytext=(0, 5),\n",
    "                        textcoords='offset points')\n",
    "      \n",
    "plt.title('Top ten aircrafts with the most accidents')\n",
    "plt.xlabel('Aircraft_Makes')\n",
    "plt.ylabel('Number of accidents')\n",
    "plt.xticks(rotation=45)\n",
    "plt.tight_layout()\n",
    "plt.show()"
   ]
  },
  {
   "cell_type": "markdown",
   "id": "a5b1c4a9-ef83-4489-86e2-9287ba38d828",
   "metadata": {},
   "source": [
    "## Findings\n",
    "\n",
    "* Cessna is the aircraft make with the most accidents\n",
    "* The top 3 aircraft with most accidents are Cessna, Piper and Beech"
   ]
  },
  {
   "cell_type": "markdown",
   "id": "4be9f81e-3021-4dc0-9486-3f8a14f7e5e3",
   "metadata": {},
   "source": [
    "## Further analysis on the aircraft makes with most accidents since 2000"
   ]
  },
  {
   "cell_type": "code",
   "execution_count": 32,
   "id": "e45c0aa1-64c8-4f61-80ec-b5ce5203af8c",
   "metadata": {},
   "outputs": [
    {
     "data": {
      "image/png": "[encoded data removed]",
      "text/plain": [
       "<Figure size 1000x600 with 1 Axes>"
      ]
     },
     "metadata": {},
     "output_type": "display_data"
    }
   ],
   "source": [
    "# convert the data type for Year to int\n",
    "aviation_df['Year'] = aviation_df['Year'].astype(int)\n",
    "\n",
    "# Genrate data for top 5 aircraft makes with most accidents since 2010\n",
    "df = aviation_df[(aviation_df['Year'] >= 2000) & (aviation_df['Make'].isin(['Cessna', 'Piper', 'Beech','Bell','Mooney', 'Grumman', 'Bellanca', 'Boeing', 'Hughes', 'Robinson'])) & (aviation_df['Purpose_of_flight'].isin(['Business', 'Personal']))]\n",
    "\n",
    "# Group the data by 'Make' and 'Purpose_of_flight' and then count the number of accidents\n",
    "grouped_data = df.groupby(['Make', 'Purpose_of_flight']).size().unstack()\n",
    "\n",
    "# Plotting the bar chart\n",
    "grouped_data.plot(kind='bar', figsize=(10, 6))\n",
    "\n",
    "# Labels for the bar chart\n",
    "plt.title('Number of Accidents by Purpose and Aircraft Type since 2000')\n",
    "plt.xlabel('Aircraft Make')\n",
    "plt.ylabel('Number of Accidents')\n",
    "plt.xticks(rotation=0)\n",
    "plt.legend(title=\"Flight Purpose\")\n",
    "plt.grid(axis='y', linestyle='-', alpha=0.7)\n",
    "# Show the plot\n",
    "plt.show()"
   ]
  },
  {
   "cell_type": "markdown",
   "id": "267a48b7-733d-4863-a096-a7fd0a43a486",
   "metadata": {},
   "source": [
    "## Findings\n",
    "\n",
    "* Top 5 aircraft makes with most number of accidents are caused by personal flight use of the aircraft\n",
    "* Most of the aircraft accidents are seen on Cessna.\n",
    "* Boeing is the safest aircraft make to buy for business flight.\n",
    "* Grumman is the safest aircraft for personal flight."
   ]
  },
  {
   "cell_type": "markdown",
   "id": "a1bfe810-5f3a-4518-9f47-20f7a57604cd",
   "metadata": {},
   "source": [
    "## Graph of injuries amongst the top 10 aircraft"
   ]
  },
  {
   "cell_type": "code",
   "execution_count": 35,
   "id": "c7407cca-5651-447c-8f63-bc1e0ada85fc",
   "metadata": {},
   "outputs": [
    {
     "data": {
      "image/png": "[encoded data removed]",
      "text/plain": [
       "<Figure size 1000x600 with 1 Axes>"
      ]
     },
     "metadata": {},
     "output_type": "display_data"
    }
   ],
   "source": [
    "\n",
    "# Computation of total injuries\n",
    "aviation_df['Total_Injuries'] = aviation_df[['Total_Fatal_Injuries', 'Total_Serious_Injuries', 'Total_Minor_Injuries']].sum(axis=1)\n",
    "\n",
    "# Group data by 'Make' \n",
    "injuries_group = aviation_df.groupby('Make')['Total_Injuries'].sum()\n",
    "\n",
    "# List all aircraft make\n",
    "Aircraft_make = ['Cessna', 'Piper', 'Beech','Bell','Mooney', 'Grumman', 'Bellanca', 'Boeing', 'Hughes', 'Robinson']\n",
    "injuries_group  = injuries_group [injuries_group .index.isin(Aircraft_make)]\n",
    "\n",
    "# Plot the chart\n",
    "plt.figure(figsize=(10, 6))\n",
    "bars = injuries_group.plot(kind='bar', color=['black', 'grey', 'red', 'orange','pink', 'purple', 'green', 'brown', 'blue', 'indigo'])\n",
    "# Labels and title\n",
    "plt.xlabel('Aircraft Make')\n",
    "plt.ylabel('Total Injuries')\n",
    "plt.title('Total Injuries by Aircraft Make')\n",
    "plt.xticks(rotation=45)\n",
    "plt.grid(axis='y', linestyle='-', alpha=0.7)\n",
    "\n",
    "# Show the chart\n",
    "plt.show()"
   ]
  },
  {
   "cell_type": "markdown",
   "id": "e939e5e6-24ce-4f30-8da0-0962c6b7c102",
   "metadata": {},
   "source": [
    "## Findings\n",
    "\n",
    "* The higher the number of accidents, the more injuries expected.\n",
    "* Boeing and Grumman have the least injuries reported."
   ]
  },
  {
   "cell_type": "markdown",
   "id": "165244df-b5b9-447f-91f7-6081548f6e6a",
   "metadata": {},
   "source": [
    "# Conclusion\n",
    "\n",
    "* Cessna, Piper and Beech aircraft are prone to the highest accidents and injuries. However, this is mostly with aircraft used for personal flight and can be attributed to various other factors.\n",
    "* For busines and personal flight, the safest aircraft to go for is Boeing and Grumman respectively.\n",
    "* Boeing and Grumman are the safest aircraft makes due to the low number of injuries.\n"
   ]
  },
  {
   "cell_type": "markdown",
   "id": "2b2dc4f9-7316-43f5-9f62-ac698159da13",
   "metadata": {},
   "source": [
    "# Recommendation\n",
    "\n",
    "Go with Boeing and Grumman since these are the safest aircraft."
   ]
  }
 ],
 "metadata": {
  "kernelspec": {
   "display_name": "Pyhton (learn-env)",
   "language": "python",
   "name": "learn-env"
  },
  "language_info": {
   "codemirror_mode": {
    "name": "ipython",
    "version": 3
   },
   "file_extension": ".py",
   "mimetype": "text/x-python",
   "name": "python",
   "nbconvert_exporter": "python",
   "pygments_lexer": "ipython3",
   "version": "3.12.7"
  }
 },
 "nbformat": 4,
 "nbformat_minor": 5
}
